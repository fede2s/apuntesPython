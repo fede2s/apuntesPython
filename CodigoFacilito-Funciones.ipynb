{
 "cells": [
  {
   "cell_type": "markdown",
   "metadata": {},
   "source": [
    "# Funcion Simple"
   ]
  },
  {
   "cell_type": "code",
   "execution_count": 2,
   "metadata": {},
   "outputs": [
    {
     "name": "stdout",
     "output_type": "stream",
     "text": [
      "Como te llamas?\n",
      "fede\n",
      "Hola, Fede. Cómo estás?\n"
     ]
    }
   ],
   "source": [
    "def saludar(nombre):  ##nombre es el parametro\n",
    "    mensaje=\"Hola, {}. Cómo estás?\".format(nombre)\n",
    "    return mensaje\n",
    "\n",
    "\n",
    "name=input(\"Como te llamas?\\n\")\n",
    "saludo=\"\"\n",
    "\n",
    "saludo=saludar(name.title()) ##el valor de name.title() es el argumento\n",
    "\n",
    "print(saludo)"
   ]
  },
  {
   "cell_type": "markdown",
   "metadata": {},
   "source": [
    "# Retornar mas de 1 valor"
   ]
  },
  {
   "cell_type": "code",
   "execution_count": 3,
   "metadata": {},
   "outputs": [
    {
     "name": "stdout",
     "output_type": "stream",
     "text": [
      "Jupiter Notebook\n",
      "Python\n",
      "3.7\n"
     ]
    }
   ],
   "source": [
    "def entornoDeProgramacion():\n",
    "    return 'Jupiter Notebook','Python',3.7  ##Una funcion puede devolver varios valores en python\n",
    "\n",
    "ide, lenguaje, version=entornoDeProgramacion()\n",
    "\n",
    "print(ide)\n",
    "print(lenguaje)\n",
    "print(version)"
   ]
  },
  {
   "cell_type": "markdown",
   "metadata": {},
   "source": [
    "# Valores por defecto"
   ]
  },
  {
   "cell_type": "code",
   "execution_count": 18,
   "metadata": {},
   "outputs": [
    {
     "name": "stdout",
     "output_type": "stream",
     "text": [
      "{'Nombre': 'Federico', 'Apellido': 'dos Santos', 'Nombre Completo': 'Federico dos Santos', 'Edad': None}\n",
      "{'Nombre': 'Federico', 'Apellido': 'dos Santos', 'Nombre Completo': 'Federico dos Santos', 'Edad': 23}\n"
     ]
    }
   ],
   "source": [
    "#reglas para valores default\n",
    "#1 la asignacion tiene que ser sin espacios variable=valor esta bien, variable = valor esta mal\n",
    "#2 los parametros por defecto empiezan de derecha a izquierda\n",
    "#3 no deben haber saltos en la asignacion\n",
    "#4 la asignacion es con respecto a la posicion\n",
    "#5 para alterar el orden de asignacion tengo que especificar variable y valor en la llamada\n",
    "    #ej: crearUsuario(apellido='dos Santos', nombre='Federico', edad=23)\n",
    "def crearUsuario(nombre, apellido, edad=None):\n",
    "    return {\n",
    "        'Nombre': nombre,\n",
    "        'Apellido':apellido,\n",
    "        'Nombre Completo':'{} {}'.format(nombre,apellido),\n",
    "        'Edad':edad,\n",
    "    }\n",
    "\n",
    "\n",
    "usuario01=crearUsuario('Federico','dos Santos')\n",
    "\n",
    "usuario02=crearUsuario(apellido='dos Santos', nombre='Federico', edad=23)\n",
    "\n",
    "print (usuario01)\n",
    "print(usuario02)"
   ]
  },
  {
   "cell_type": "markdown",
   "metadata": {},
   "source": [
    "# Tipos de parametros"
   ]
  },
  {
   "cell_type": "markdown",
   "metadata": {},
   "source": [
    "## Tipos de parametros\n",
    "    #parametros requeridos\n",
    "    #parametros args con asterisco *\n",
    "    #parametros kwargs con doble asterisco **"
   ]
  },
  {
   "cell_type": "code",
   "execution_count": 24,
   "metadata": {},
   "outputs": [
    {
     "name": "stdout",
     "output_type": "stream",
     "text": [
      "Args es tipo:  <class 'tuple'>\n",
      "Args es tipo:  <class 'tuple'>\n",
      "11\n",
      "791\n"
     ]
    }
   ],
   "source": [
    "#args keywords\n",
    "#Se usa cuando no sabemos cuantos argumentos va a recibir la funcion\n",
    "#Usamos *\n",
    "#args es una tupla\n",
    "#que se llame args es una convencion. Si me quiero hacer el malo lo puedo llamar como quiera\n",
    "#Puedo usar argumentos fijos y de otros tipos, siempre y cuando args quede al final\n",
    "    #ej: def usuario(nombre,apellido,*notas):\n",
    "\n",
    "#Ejemplo: Funcion que suma la cantidad de numeros que le mandes\n",
    "\n",
    "def suma(*args):\n",
    "    print(\"Args es tipo: \",type(args))\n",
    "    sumatotal=0\n",
    "    for n in args:\n",
    "        sumatotal+=n  #es lo mismo que sumatotal=sumatotal+n\n",
    "    \n",
    "    return sumatotal\n",
    "\n",
    "suma1=suma(1,4,6)\n",
    "suma2=suma(8,42,58,231,324,23,2,6,97)\n",
    "\n",
    "print(suma1)\n",
    "print(suma2)"
   ]
  },
  {
   "cell_type": "code",
   "execution_count": 25,
   "metadata": {},
   "outputs": [
    {
     "name": "stdout",
     "output_type": "stream",
     "text": [
      "El tipo de dato de kwargs es:  <class 'dict'>\n",
      "{'Fede': True, 'Tony': False}\n"
     ]
    }
   ],
   "source": [
    "#Otra forma de usar varios argumentos es usando doble asterisco\n",
    "#Por convencion usamos kwargs\n",
    "#El uso de doble asterisco, nos agrupa siempre los datos en un diccionario\n",
    "#El nombre de la llave es el nombre del parametro\n",
    "\n",
    "\n",
    "def usuariosConectados(**kwargs):\n",
    "    print(\"El tipo de dato de kwargs es: \", type(kwargs))\n",
    "    print(kwargs)\n",
    "    \n",
    "usuariosConectados(Fede=True, Tony=False)"
   ]
  },
  {
   "cell_type": "markdown",
   "metadata": {},
   "source": [
    "# Alcance de variables"
   ]
  },
  {
   "cell_type": "code",
   "execution_count": 29,
   "metadata": {},
   "outputs": [
    {
     "name": "stdout",
     "output_type": "stream",
     "text": [
      "mensaje:  Hola mundo\n",
      "Hola mundo\n",
      "\n",
      "mensaje:  Hola mundo\n",
      "Estoy usando variable local, aunque le ponga el nombre de una variable global\n",
      "\n",
      "mensaje:  Hola mundo\n",
      "Estoy modificando una variable global con la palabra reservada global\n",
      "\n",
      "mensaje:  Estoy modificando una variable global con la palabra reservada global\n"
     ]
    }
   ],
   "source": [
    "#Tipos de parametros\n",
    "    #parametros requeridos\n",
    "    #parametros con asterisco *\n",
    "    #parametros con doble asterisco **\n",
    "#formas de terminar una funcion\n",
    "    #sin return (va a retornar None)\n",
    "    #con return (va a retornar lo que yo quiera y la cantidad de valores que yo quiera)\n",
    "\n",
    "#Alcance de variables\n",
    "    \n",
    "    #globales:Declaradas afuera de la funcion\n",
    "             #Si yo defino una variable afuera de la funcion y defino otra con el mismo \n",
    "             #nombre adentro, para python van a ser variables diferentes\n",
    "             \n",
    "             #Para modificar una variable global adentro de una funcion tengo que\n",
    "             #usar la palabra reservada global\n",
    "                #ej: global variable\n",
    "                #    variable=valor\n",
    "                \n",
    "    #locales:Definidas adentro de la funcion\n",
    "            #Solo existen dentro de la funcion\n",
    "        \n",
    "mensaje='Hola mundo'\n",
    "\n",
    "def imprimirMensaje01():\n",
    "    print(mensaje)\n",
    "    \n",
    "def imprimirMensaje02():\n",
    "    mensaje='Estoy usando variable local, aunque le ponga el nombre de una variable global'\n",
    "    print(mensaje)\n",
    "    \n",
    "def imprimirMensaje03():\n",
    "    global mensaje\n",
    "    mensaje='Estoy modificando una variable global con la palabra reservada global'\n",
    "    print(mensaje)\n",
    "\n",
    "print('mensaje: ',mensaje)\n",
    "imprimirMensaje01()\n",
    "print('\\nmensaje: ',mensaje)\n",
    "imprimirMensaje02()\n",
    "print('\\nmensaje: ',mensaje)\n",
    "imprimirMensaje03()\n",
    "print('\\nmensaje: ',mensaje)\n"
   ]
  },
  {
   "cell_type": "markdown",
   "metadata": {},
   "source": [
    "# Funciones Lambda y funciones variables"
   ]
  },
  {
   "cell_type": "code",
   "execution_count": 1,
   "metadata": {},
   "outputs": [
    {
     "name": "stdout",
     "output_type": "stream",
     "text": [
      "89.6\n"
     ]
    }
   ],
   "source": [
    "#Podemos asignar una funcion a una variable\n",
    "#Ej:    nombreDeVariable = nombreDeFuncion\n",
    "#Escribo el nombre de la variable, el igual y el nombre de la funcion sin parentesis\n",
    "\n",
    "#Para usar la funcion, ponemos el nombre de la variable con los parentesis y argumentos si se requieren\n",
    "#Ej:        nombreDeVariable()\n",
    "\n",
    "def centigrados_a_farenhenheit(grados):\n",
    "    return grados *1.8+32\n",
    "\n",
    "funcion_variable = centigrados_a_farenhenheit\n",
    "resultado= funcion_variable(32)\n",
    "\n",
    "print(resultado)"
   ]
  },
  {
   "cell_type": "code",
   "execution_count": 2,
   "metadata": {},
   "outputs": [
    {
     "name": "stdout",
     "output_type": "stream",
     "text": [
      "89.6\n"
     ]
    }
   ],
   "source": [
    "#Funciones lambda (Funciones Anonimas)\n",
    "#Se escriben en una sola linea de codigo\n",
    "#Usamos la palabra reservada lambda\n",
    "\n",
    "mi_funcion= lambda grados=0: grados *1.8 + 32\n",
    "\n",
    "resultado = mi_funcion(32)\n",
    "print(resultado)"
   ]
  },
  {
   "cell_type": "markdown",
   "metadata": {},
   "source": [
    "## Las funciones lambda se componen de la siguiente manera\n",
    "variable= lambda parametros: retorno"
   ]
  },
  {
   "cell_type": "markdown",
   "metadata": {},
   "source": [
    "# Funcion map( )\n",
    "\n",
    "map(function, objeto iterable)\n",
    "\n",
    "En Python, la función map nos permite aplicar una función sobre los items de un objeto\n",
    "iterable (lista, tupla, etc...)."
   ]
  },
  {
   "cell_type": "code",
   "execution_count": 2,
   "metadata": {},
   "outputs": [
    {
     "name": "stdout",
     "output_type": "stream",
     "text": [
      "[1, 4, 9, 16, 25]\n"
     ]
    }
   ],
   "source": [
    "#funcion para elevar al cuadrado un numero\n",
    "#a simple vista la funcion cuadrado no sirve para listas, tuplas ni diccionarios\n",
    "def cuadrado(numero):\n",
    "    return numero * numero\n",
    "\n",
    "lista = [1,2,3,4,5]\n",
    "\n",
    "#uso la funcion map para que cuadrado() trabaje con una lista=[]\n",
    "resultado = map(cuadrado, lista)\n",
    "\n",
    "#convierto la variable resultado que es un objeto en una lista con la funcion list()\n",
    "lista_resultado = list(resultado)\n",
    "\n",
    "#imprimo la lista\n",
    "print(lista_resultado)"
   ]
  },
  {
   "cell_type": "code",
   "execution_count": 4,
   "metadata": {},
   "outputs": [
    {
     "name": "stdout",
     "output_type": "stream",
     "text": [
      "[1, 4, 9, 16, 25]\n"
     ]
    }
   ],
   "source": [
    "#Es posible utilizar map junto con una función lambda. En lo personal considero esta la mejor opción.\n",
    "lista=[1,2,3,4,5]\n",
    "\n",
    "resultado=map( lambda numero:numero*numero,lista)\n",
    "\n",
    "listaResultado=list(resultado)\n",
    "\n",
    "print(listaResultado)"
   ]
  },
  {
   "cell_type": "markdown",
   "metadata": {},
   "source": [
    "# Funciones anidadas\n",
    "Defino una función adentro de otra\n"
   ]
  },
  {
   "cell_type": "code",
   "execution_count": 7,
   "metadata": {},
   "outputs": [
    {
     "name": "stdout",
     "output_type": "stream",
     "text": [
      "cancion1\n",
      "cancion2\n",
      "cancion3\n",
      "cancion4\n"
     ]
    }
   ],
   "source": [
    "def iniciarPlaylist(lista):\n",
    "    \n",
    "    def reproducir():        #la funcion reproducir solo va a existir dentro de iniciarPlaylist\n",
    "        for i in lista:\n",
    "            print(i)\n",
    "    \n",
    "    reproducir()            #la llamo porque sino esta al pedo definida\n",
    "    \n",
    "lista=['cancion1','cancion2','cancion3','cancion4']\n",
    "\n",
    "iniciarPlaylist(lista)"
   ]
  },
  {
   "cell_type": "markdown",
   "metadata": {},
   "source": [
    "## Si yo agrego una variable lista en reproducir(), para python esa variable lista y la variable lista que recibe iniciarPlaylist() como parametro, van a ser distintas.\n",
    "Para modificarla tengo que hacer uso de la palabra reservada nonlocal"
   ]
  },
  {
   "cell_type": "code",
   "execution_count": 11,
   "metadata": {},
   "outputs": [
    {
     "name": "stdout",
     "output_type": "stream",
     "text": [
      "1\n",
      "2\n",
      "3\n",
      "['cancion1', 'cancion2', 'cancion3', 'cancion4']\n"
     ]
    }
   ],
   "source": [
    "#Ejemplo de como python identifica ambas variables lista como distintas\n",
    "def iniciarPlaylist(lista):\n",
    "    \n",
    "    def reproducir():\n",
    "        lista=['1','2','3']\n",
    "        for i in lista:\n",
    "            print(i)\n",
    "    \n",
    "    reproducir()\n",
    "    print(lista)\n",
    "    \n",
    "lista=['cancion1','cancion2','cancion3','cancion4']\n",
    "\n",
    "iniciarPlaylist(lista)"
   ]
  },
  {
   "cell_type": "code",
   "execution_count": 10,
   "metadata": {},
   "outputs": [
    {
     "name": "stdout",
     "output_type": "stream",
     "text": [
      "1\n",
      "2\n",
      "3\n",
      "['1', '2', '3']\n"
     ]
    }
   ],
   "source": [
    "#Ejemplo de como modificar la variable local de iniciarPlaylist() que actua como global para reproducir()\n",
    "\n",
    "def iniciarPlaylist(lista):\n",
    "    \n",
    "    def reproducir():\n",
    "        nonlocal lista     #Uso la palabra reservada nonlocal\n",
    "        lista=['1','2','3']\n",
    "        for i in lista:\n",
    "            print(i)\n",
    "    \n",
    "    reproducir()           \n",
    "    print(lista)\n",
    "    \n",
    "lista=['cancion1','cancion2','cancion3','cancion4']\n",
    "\n",
    "iniciarPlaylist(lista)"
   ]
  },
  {
   "cell_type": "markdown",
   "metadata": {},
   "source": [
    "# Closure\n",
    "Cuando una función genera dinámicamente otra función. La nueva función puede acceder a las variables locales aunque ya haya finalizado\n",
    "Evito usar variables globales\n",
    "Retorno una funcion, la almaceno usando la funcion primera con sus parametros"
   ]
  },
  {
   "cell_type": "code",
   "execution_count": 14,
   "metadata": {},
   "outputs": [
    {
     "name": "stdout",
     "output_type": "stream",
     "text": [
      "Hola Mundo\n"
     ]
    }
   ],
   "source": [
    "def mostrarMensaje(mensaje):\n",
    "    mensaje=mensaje.title()\n",
    "    \n",
    "    def imprimir(): \n",
    "        print(mensaje)\n",
    "        \n",
    "    return imprimir\n",
    "\n",
    "nuevaFuncion=mostrarMensaje(\"hola mundo\")\n",
    "\n",
    "nuevaFuncion()"
   ]
  },
  {
   "cell_type": "code",
   "execution_count": null,
   "metadata": {},
   "outputs": [],
   "source": []
  }
 ],
 "metadata": {
  "celltoolbar": "Raw Cell Format",
  "kernelspec": {
   "display_name": "Python 3",
   "language": "python",
   "name": "python3"
  },
  "language_info": {
   "codemirror_mode": {
    "name": "ipython",
    "version": 3
   },
   "file_extension": ".py",
   "mimetype": "text/x-python",
   "name": "python",
   "nbconvert_exporter": "python",
   "pygments_lexer": "ipython3",
   "version": "3.7.6"
  }
 },
 "nbformat": 4,
 "nbformat_minor": 4
}
